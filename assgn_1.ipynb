{
 "cells": [
  {
   "attachments": {},
   "cell_type": "markdown",
   "metadata": {},
   "source": [
    "# CGS402A Assignment 1\n",
    "Team memebers:  \n",
    "1. Akash Biswas (Roll no.: 200074)\n",
    "2. Ayush Agrawal (Roll no.: 200237)\n",
    "3. Meet Solanki  (Roll no.: 200579)\n",
    "\n",
    "In this assignment we try to break existing noCAPTCHA systems by Google. Later on we suggest changes to make the noCAPTCHA more secure in accordance with Fitts' Law.  \n",
    "\n",
    "The notebook requires few resources which can be found [here](https://drive.google.com/drive/folders/1iR_EkGBW_PWLPC4gYOSNfYmjRtXfEyE9?usp=sharing).  \n",
    "Make sure to download the folder and run the notebook inside the directory."
   ]
  },
  {
   "attachments": {},
   "cell_type": "markdown",
   "metadata": {},
   "source": [
    "## Experiment\n",
    "To collect data we have designed an experiment wherein, a human user is presented with a reCAPTCHA box. The user is required to click on the reCAPTCHA box. This is repeated for a number of times.  \n",
    "\n",
    "The experiment records the initial position of mouse cursor and the position when the user clicks the reCAPTCHA box and the time required in doing the task."
   ]
  },
  {
   "cell_type": "code",
   "execution_count": 1,
   "metadata": {},
   "outputs": [
    {
     "name": "stdout",
     "output_type": "stream",
     "text": [
      "pygame 2.1.2 (SDL 2.0.16, Python 3.10.6)\n",
      "Hello from the pygame community. https://www.pygame.org/contribute.html\n"
     ]
    }
   ],
   "source": [
    "# import the required libraries\n",
    "import pygame\n",
    "import random\n",
    "import time"
   ]
  },
  {
   "cell_type": "code",
   "execution_count": 2,
   "metadata": {},
   "outputs": [
    {
     "ename": "",
     "evalue": "",
     "output_type": "error",
     "traceback": [
      "\u001b[1;31mThe Kernel crashed while executing code in the the current cell or a previous cell. Please review the code in the cell(s) to identify a possible cause of the failure. Click <a href='https://aka.ms/vscodeJupyterKernelCrash'>here</a> for more info. View Jupyter <a href='command:jupyter.viewOutput'>log</a> for further details."
     ]
    }
   ],
   "source": [
    "pygame.init()\n",
    "# This experiment was designed for system with display resolution of 1920,1080 feel free to change the resolution accordingly\n",
    "screen = pygame.display.set_mode((1920, 1080))\n",
    "pygame.display.set_caption(\"CGS402 CAPTCHA Experiment\")\n",
    "\n",
    "# Load the images from the directory shared above\n",
    "captcha = pygame.image.load('./noCAPTCHA.jpg')\n",
    "captcha_rect = captcha.get_rect()\n",
    "captcha_rect.x = random.randrange(0, 1616)\n",
    "captcha_rect.y = random.randrange(0, 982)\n",
    "\n",
    "captcha_t = pygame.image.load('./noCAPTCHA_tick.jpg')\n",
    "\n",
    "def player(img, img_rect):\n",
    "    screen.blit(img, img_rect)\n",
    "\n",
    "# Change # of trials\n",
    "run = 100\n",
    "temp_st = str(pygame.mouse.get_pos()[0]) + \",\" + str(pygame.mouse.get_pos()[1]) + \",\"\n",
    "with open(\"./result.csv\", \"w\") as f:\n",
    "    f.write(\"Init_x,Init_y,Fin_x,Fin_y,Time\\n\")\n",
    "    tic = time.time()\n",
    "    while run>0: \n",
    "        for event in pygame.event.get():\n",
    "            if event.type == pygame.QUIT:\n",
    "                run = False\n",
    "            if event.type == pygame.MOUSEBUTTONDOWN:\n",
    "                if captcha_rect.collidepoint(event.pos):\n",
    "                    toc = time.time()\n",
    "                    temp_st += str(pygame.mouse.get_pos()[0]) + \",\" + str(pygame.mouse.get_pos()[1]) + \",\" + str(toc - tic) + \"\\n\"\n",
    "                    f.write(temp_st)\n",
    "                    screen.fill((255,255,255))\n",
    "                    player(captcha_t, captcha_rect)\n",
    "                    pygame.display.update()\n",
    "                    time.sleep(1)\n",
    "                    temp_st = str(pygame.mouse.get_pos()[0]) + \",\" + str(pygame.mouse.get_pos()[1]) + \",\"\n",
    "                    captcha_rect.x = random.randrange(0, 1616)\n",
    "                    captcha_rect.y = random.randrange(0, 982)\n",
    "                    tic = time.time()\n",
    "                    run-=1\n",
    "\n",
    "\n",
    "        screen.fill((255, 255, 255))\n",
    "        player(captcha, captcha_rect)\n",
    "        pygame.display.update()\n"
   ]
  },
  {
   "attachments": {},
   "cell_type": "markdown",
   "metadata": {},
   "source": [
    "## Data Analysis\n",
    "Now that we have the data, its time for data analysis."
   ]
  },
  {
   "cell_type": "code",
   "execution_count": 2,
   "metadata": {},
   "outputs": [],
   "source": [
    "# import the required libraries\n",
    "import numpy as np\n",
    "import pandas as pd"
   ]
  },
  {
   "cell_type": "code",
   "execution_count": 5,
   "metadata": {},
   "outputs": [
    {
     "data": {
      "text/html": [
       "<div>\n",
       "<style scoped>\n",
       "    .dataframe tbody tr th:only-of-type {\n",
       "        vertical-align: middle;\n",
       "    }\n",
       "\n",
       "    .dataframe tbody tr th {\n",
       "        vertical-align: top;\n",
       "    }\n",
       "\n",
       "    .dataframe thead th {\n",
       "        text-align: right;\n",
       "    }\n",
       "</style>\n",
       "<table border=\"1\" class=\"dataframe\">\n",
       "  <thead>\n",
       "    <tr style=\"text-align: right;\">\n",
       "      <th></th>\n",
       "      <th>Init_x</th>\n",
       "      <th>Init_y</th>\n",
       "      <th>Fin_x</th>\n",
       "      <th>Fin_y</th>\n",
       "      <th>Time</th>\n",
       "    </tr>\n",
       "  </thead>\n",
       "  <tbody>\n",
       "    <tr>\n",
       "      <th>0</th>\n",
       "      <td>0</td>\n",
       "      <td>0</td>\n",
       "      <td>1153</td>\n",
       "      <td>356</td>\n",
       "      <td>1.111015</td>\n",
       "    </tr>\n",
       "    <tr>\n",
       "      <th>1</th>\n",
       "      <td>1153</td>\n",
       "      <td>356</td>\n",
       "      <td>938</td>\n",
       "      <td>704</td>\n",
       "      <td>1.283931</td>\n",
       "    </tr>\n",
       "    <tr>\n",
       "      <th>2</th>\n",
       "      <td>938</td>\n",
       "      <td>704</td>\n",
       "      <td>152</td>\n",
       "      <td>231</td>\n",
       "      <td>1.106309</td>\n",
       "    </tr>\n",
       "    <tr>\n",
       "      <th>3</th>\n",
       "      <td>152</td>\n",
       "      <td>231</td>\n",
       "      <td>644</td>\n",
       "      <td>257</td>\n",
       "      <td>1.144405</td>\n",
       "    </tr>\n",
       "    <tr>\n",
       "      <th>4</th>\n",
       "      <td>644</td>\n",
       "      <td>257</td>\n",
       "      <td>1336</td>\n",
       "      <td>234</td>\n",
       "      <td>1.054781</td>\n",
       "    </tr>\n",
       "    <tr>\n",
       "      <th>...</th>\n",
       "      <td>...</td>\n",
       "      <td>...</td>\n",
       "      <td>...</td>\n",
       "      <td>...</td>\n",
       "      <td>...</td>\n",
       "    </tr>\n",
       "    <tr>\n",
       "      <th>195</th>\n",
       "      <td>174</td>\n",
       "      <td>102</td>\n",
       "      <td>933</td>\n",
       "      <td>257</td>\n",
       "      <td>1.716138</td>\n",
       "    </tr>\n",
       "    <tr>\n",
       "      <th>196</th>\n",
       "      <td>933</td>\n",
       "      <td>257</td>\n",
       "      <td>1106</td>\n",
       "      <td>487</td>\n",
       "      <td>1.168797</td>\n",
       "    </tr>\n",
       "    <tr>\n",
       "      <th>197</th>\n",
       "      <td>1106</td>\n",
       "      <td>487</td>\n",
       "      <td>1255</td>\n",
       "      <td>615</td>\n",
       "      <td>1.329718</td>\n",
       "    </tr>\n",
       "    <tr>\n",
       "      <th>198</th>\n",
       "      <td>1255</td>\n",
       "      <td>615</td>\n",
       "      <td>1331</td>\n",
       "      <td>390</td>\n",
       "      <td>1.292648</td>\n",
       "    </tr>\n",
       "    <tr>\n",
       "      <th>199</th>\n",
       "      <td>1331</td>\n",
       "      <td>390</td>\n",
       "      <td>127</td>\n",
       "      <td>983</td>\n",
       "      <td>1.541658</td>\n",
       "    </tr>\n",
       "  </tbody>\n",
       "</table>\n",
       "<p>200 rows × 5 columns</p>\n",
       "</div>"
      ],
      "text/plain": [
       "     Init_x  Init_y  Fin_x  Fin_y      Time\n",
       "0         0       0   1153    356  1.111015\n",
       "1      1153     356    938    704  1.283931\n",
       "2       938     704    152    231  1.106309\n",
       "3       152     231    644    257  1.144405\n",
       "4       644     257   1336    234  1.054781\n",
       "..      ...     ...    ...    ...       ...\n",
       "195     174     102    933    257  1.716138\n",
       "196     933     257   1106    487  1.168797\n",
       "197    1106     487   1255    615  1.329718\n",
       "198    1255     615   1331    390  1.292648\n",
       "199    1331     390    127    983  1.541658\n",
       "\n",
       "[200 rows x 5 columns]"
      ]
     },
     "execution_count": 5,
     "metadata": {},
     "output_type": "execute_result"
    }
   ],
   "source": [
    "# Can use given sample.out.csv data provided in directory\n",
    "data = pd.read_csv(\"./result.csv\")\n",
    "data"
   ]
  },
  {
   "attachments": {},
   "cell_type": "markdown",
   "metadata": {},
   "source": [
    "First, we plot Time taken vs. Manhattan distance between initial and final points."
   ]
  },
  {
   "cell_type": "code",
   "execution_count": 6,
   "metadata": {},
   "outputs": [
    {
     "data": {
      "image/png": "[encoded data removed]",
      "text/plain": [
       "<Figure size 432x288 with 1 Axes>"
      ]
     },
     "metadata": {
      "needs_background": "light"
     },
     "output_type": "display_data"
    }
   ],
   "source": [
    "data['Man_distance'] = abs(data['Init_x'] - data['Fin_x']) + abs(data['Init_y'] - data['Fin_y'])\n",
    "ax1 = data.plot.scatter(x='Man_distance', y='Time')"
   ]
  },
  {
   "attachments": {},
   "cell_type": "markdown",
   "metadata": {},
   "source": [
    "Now, we move to Euclidean distance and plot it."
   ]
  },
  {
   "cell_type": "code",
   "execution_count": 7,
   "metadata": {},
   "outputs": [
    {
     "data": {
      "image/png": "[encoded data removed]",
      "text/plain": [
       "<Figure size 432x288 with 2 Axes>"
      ]
     },
     "metadata": {
      "needs_background": "light"
     },
     "output_type": "display_data"
    }
   ],
   "source": [
    "data['Distance'] = np.sqrt(np.square(data['Init_x'] - data['Fin_x']) + np.square(data['Init_y'] - data['Fin_y']))\n",
    "ax1 = data.plot.scatter(x='Distance', y='Time',c='Time',colormap='viridis')"
   ]
  },
  {
   "attachments": {},
   "cell_type": "markdown",
   "metadata": {},
   "source": [
    "For small distances, the plot is similar for both the cases. But differences widen for large distances as  \n",
    "\n",
    "$\\frac{|a| + |b|}{2} \\leq \\sqrt{a^2 + b^2}$  \n",
    "\n",
    "And by triangle inequality, we have  \n",
    "\n",
    "$\\sqrt{a^2 + b^2} \\leq |a| + |b|$ \n",
    "\n",
    "So, we train our model with Euclidean distance instead."
   ]
  },
  {
   "attachments": {},
   "cell_type": "markdown",
   "metadata": {},
   "source": [
    "## Model\n",
    "As, we observe form the plot that the time taken increses with the distance. So, a Linear Regression model should do the work."
   ]
  },
  {
   "cell_type": "code",
   "execution_count": 8,
   "metadata": {},
   "outputs": [],
   "source": [
    "from sklearn .linear_model import LinearRegression\n",
    "\n",
    "X = data['Distance'].values.reshape(-1,1)\n",
    "y = data['Time'].values.reshape(-1,1)\n",
    "reg = LinearRegression().fit(X,y)"
   ]
  },
  {
   "attachments": {},
   "cell_type": "markdown",
   "metadata": {},
   "source": [
    "## Breaking noCAPTCHA\n",
    "Now, that we have collected, analysed the data and created a model, its time to use it. \n",
    "\n",
    "For automating the task, we use selenium library with Chromedriver. So, before running the system make sure to download the Chromedriver of appropriate version from [here](https://chromedriver.chromium.org/downloads)."
   ]
  },
  {
   "cell_type": "code",
   "execution_count": 9,
   "metadata": {},
   "outputs": [],
   "source": [
    "from selenium import webdriver\n",
    "from selenium.webdriver.common.by import By"
   ]
  },
  {
   "cell_type": "code",
   "execution_count": 10,
   "metadata": {},
   "outputs": [
    {
     "name": "stderr",
     "output_type": "stream",
     "text": [
      "/tmp/ipykernel_14072/2198113746.py:5: DeprecationWarning: executable_path has been deprecated, please pass in a Service object\n",
      "  driver = webdriver.Chrome(executable_path=\"./chromedriver\", chrome_options=options)\n",
      "/tmp/ipykernel_14072/2198113746.py:5: DeprecationWarning: use options instead of chrome_options\n",
      "  driver = webdriver.Chrome(executable_path=\"./chromedriver\", chrome_options=options)\n"
     ]
    }
   ],
   "source": [
    "# Apply appropriate options in the driver\n",
    "options = webdriver.ChromeOptions()\n",
    "options.add_experimental_option(\"useAutomationExtension\", False)\n",
    "options.add_experimental_option(\"excludeSwitches\",[\"enable-automation\"])\n",
    "driver = webdriver.Chrome(executable_path=\"./chromedriver\", chrome_options=options)"
   ]
  },
  {
   "cell_type": "code",
   "execution_count": 11,
   "metadata": {},
   "outputs": [],
   "source": [
    "# Feel free to check out other urls as well \n",
    "# url = \"http://127.0.0.1:8080/\"\n",
    "# url = \"https://patrickhlauke.github.io/recaptcha/\"\n",
    "url = \"https://www.google.com/recaptcha/api2/demo\""
   ]
  },
  {
   "cell_type": "code",
   "execution_count": 12,
   "metadata": {},
   "outputs": [],
   "source": [
    "import pyautogui\n",
    "\n",
    "# set times to 0 to get minimum latency\n",
    "pyautogui.MINIMUM_DURATION = 0\n",
    "pyautogui.MINIMUM_SLEEP = 0\n",
    "pyautogui.PAUSE = 0"
   ]
  },
  {
   "attachments": {},
   "cell_type": "markdown",
   "metadata": {},
   "source": [
    "As, with pyautogui, we can move the cursor in linear path which is more robotic, so we use another library bezier to move the cursor in a curved path.  \n",
    "Ref: https://stackoverflow.com/questions/44467329/pyautogui-mouse-movement-with-bezier-curve"
   ]
  },
  {
   "cell_type": "code",
   "execution_count": 13,
   "metadata": {},
   "outputs": [],
   "source": [
    "import bezier"
   ]
  },
  {
   "cell_type": "code",
   "execution_count": 18,
   "metadata": {},
   "outputs": [],
   "source": [
    "driver.get(url)\n",
    "driver.fullscreen_window()\n",
    "\n",
    "cap_frame = (driver.find_element(By.CSS_SELECTOR,\"iframe[name^='a-'][src^='https://www.google.com/recaptcha/api2/anchor?']\"))\n",
    "x=cap_frame.location\n",
    "driver.switch_to.frame(cap_frame)\n",
    "cap = driver.find_element(By.XPATH, \"//*[@id='rc-anchor-container']\")\n",
    "\n",
    "y=cap.size\n",
    "x['y'] += y['height']/2\n",
    "x['x'] += y['width']/10\n",
    "\n",
    "start = pyautogui.position()\n",
    "end = x['x'], x['y']\n",
    "eucl_dist = np.sqrt(np.square(start[0] - end[0]) + np.square(start[1] - end[1]))\n",
    "\n",
    "control1 = end[0], start[1]\n",
    "control2 = start[0], end[1]\n",
    "\n",
    "control_points = np.array([start, control1, control2, end])\n",
    "points = np.array([control_points[:,0], control_points[:,1]])\n",
    "\n",
    "# You can set the degree of the curve here, should be less than # of control points\n",
    "degree = 3\n",
    "# Create the bezier curve\n",
    "curve = bezier.Curve(points, degree)\n",
    "# You can also create it with using Curve.from_nodes(), which sets degree to len(control_points)-1\n",
    "# curve = bezier.Curve.from_nodes(points)\n",
    "curve_steps = 50  # How many points the curve should be split into. Each is a separate pyautogui.moveTo() execution\n",
    "exp_time = max((reg.predict(np.array([[eucl_dist]])))[0][0]-0.2, 0.8) # Assume there is latency of 0.2 s for the operations\n",
    "delay = exp_time/curve_steps  \n",
    "\n",
    "for i in range(1, curve_steps+1):\n",
    "    # The evaluate method takes a float from [0.0, 1.0] and returns the coordinates at that point in the curve\n",
    "    # Another way of thinking about it is that i/steps gets the coordinates at (100*i/steps) percent into the curve\n",
    "    x, y = curve.evaluate(i/curve_steps)\n",
    "    pyautogui.moveTo(x, y)  # Move to point in curve\n",
    "    pyautogui.sleep(delay)  # Wait delay\n",
    "\n",
    "pyautogui.click()"
   ]
  },
  {
   "attachments": {},
   "cell_type": "markdown",
   "metadata": {},
   "source": [
    "## Improvements\n",
    "The noCAPTCHA verification presents the user with box of fixed size to click. Also, the location of noCAPTCHA box remains fixed for a site.\n",
    "\n",
    "Consider the case if users are presented with a version of noCAPTCHA box of variable size at random location on the screen.  \n",
    "As, the model we have designed takes only the Euclidean distance between the points as parameter, should not be able to crack this version according to [Fitts' Law](https://en.wikipedia.org/wiki/Fitts%27s_law).  \n",
    "\n",
    "So, to break this verification system we also have to take into account the size of the verification box and train our new model accordingly."
   ]
  },
  {
   "attachments": {},
   "cell_type": "markdown",
   "metadata": {},
   "source": [
    "## Simulation in accordance with Fitts' Law\n",
    "We have changed our previous experiment slightly so that the user is presented with CAPTCHA box scaled randomly."
   ]
  },
  {
   "cell_type": "code",
   "execution_count": null,
   "metadata": {},
   "outputs": [],
   "source": [
    "pygame.init()\n",
    "screen = pygame.display.set_mode((1920, 1080))\n",
    "pygame.display.set_caption(\"CGS402 CAPTCHA Experiment Fitts' Law\")\n",
    "\n",
    "scale = random.uniform(0.4,1)\n",
    "\n",
    "captcha_o = pygame.image.load('./noCAPTCHA.jpg')\n",
    "captcha = pygame.transform.scale(captcha_o, (int(captcha_o.get_size()[0]*scale), int(captcha_o.get_size()[1]*scale)))\n",
    "captcha_rect = captcha.get_rect()\n",
    "captcha_rect.x = random.randrange(0, 1616)\n",
    "captcha_rect.y = random.randrange(0, 982)\n",
    "\n",
    "captcha_t_o = pygame.image.load('./noCAPTCHA_tick.jpg')\n",
    "captcha_t = pygame.transform.scale(captcha_t_o, (int(captcha_t_o.get_size()[0]*scale), int(captcha_t_o.get_size()[1]*scale)))\n",
    "\n",
    "def player(img, img_rect):\n",
    "    screen.blit(img, img_rect)\n",
    "\n",
    "run = 5\n",
    "temp_st = str(pygame.mouse.get_pos()[0]) + \",\" + str(pygame.mouse.get_pos()[1]) + \",\"\n",
    "with open(\"./result_fitt.csv\", \"w\") as f:\n",
    "    f.write(\"Init_x,Init_y,Fin_x,Fin_y,Height,Width,Time\\n\")\n",
    "    tic = time.time()\n",
    "    while run>0: \n",
    "        for event in pygame.event.get():\n",
    "            if event.type == pygame.QUIT:\n",
    "                run = False\n",
    "            if event.type == pygame.MOUSEBUTTONDOWN:\n",
    "                if captcha_rect.collidepoint(event.pos):\n",
    "                    toc = time.time()\n",
    "                    temp_st += str(pygame.mouse.get_pos()[0]) + \",\" + str(pygame.mouse.get_pos()[1]) + \",\" + str(captcha.get_height()) + \",\" + str(captcha.get_width()) + \",\" + str(toc - tic) + \"\\n\"\n",
    "                    f.write(temp_st)\n",
    "                    screen.fill((255,255,255))\n",
    "                    player(captcha_t, captcha_rect)\n",
    "                    pygame.display.update()\n",
    "                    time.sleep(1)\n",
    "                    temp_st = str(pygame.mouse.get_pos()[0]) + \",\" + str(pygame.mouse.get_pos()[1]) + \",\"\n",
    "                    scale = random.uniform(0.3,1)\n",
    "                    captcha = pygame.transform.scale(captcha_o, (int(captcha_o.get_size()[0]*scale), int(captcha_o.get_size()[1]*scale)))\n",
    "                    captcha_t = pygame.transform.scale(captcha_t_o, (int(captcha_t_o.get_size()[0]*scale), int(captcha_t_o.get_size()[1]*scale)))\n",
    "                    captcha_rect = captcha.get_rect()\n",
    "                    captcha_rect.x = random.randrange(0, 1616)\n",
    "                    captcha_rect.y = random.randrange(0, 982)\n",
    "                    tic = time.time()\n",
    "                    run-=1\n",
    "\n",
    "\n",
    "        screen.fill((255, 255, 255))\n",
    "        player(captcha, captcha_rect)\n",
    "        pygame.display.update()\n"
   ]
  }
 ],
 "metadata": {
  "kernelspec": {
   "display_name": "Python 3",
   "language": "python",
   "name": "python3"
  },
  "language_info": {
   "codemirror_mode": {
    "name": "ipython",
    "version": 3
   },
   "file_extension": ".py",
   "mimetype": "text/x-python",
   "name": "python",
   "nbconvert_exporter": "python",
   "pygments_lexer": "ipython3",
   "version": "3.10.6 (main, Nov 14 2022, 16:10:14) [GCC 11.3.0]"
  },
  "orig_nbformat": 4,
  "vscode": {
   "interpreter": {
    "hash": "31f2aee4e71d21fbe5cf8b01ff0e069b9275f58929596ceb00d14d90e3e16cd6"
   }
  }
 },
 "nbformat": 4,
 "nbformat_minor": 2
}
